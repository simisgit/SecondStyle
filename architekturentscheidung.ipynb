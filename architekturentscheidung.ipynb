{
 "cells": [
  {
   "cell_type": "markdown",
   "metadata": {},
   "source": [
    "## Architektonische Eigenschaften für SecondStyle"
   ]
  },
  {
   "cell_type": "markdown",
   "metadata": {},
   "source": [
    "Die drei wichtigsten Eigenschaften für SecondStyle sind:\n",
    "\n",
    "1.  **Skalierbarkeit:** Das System muss in der Lage sein, steigende Nutzerzahlen und Transaktionen zu bewältigen.\n",
    "2.  **Sicherheit:** Schutz der Nutzerdaten und sichere Zahlungsabwicklung.\n",
    "3.  **Benutzerfreundlichkeit:** Einfache und intuitive Bedienung für alle Nutzer.\n",
    "\n",
    "### Details:\n",
    "\n",
    "1.  **Skalierbarkeit:**\n",
    "    *   **Warum wichtig:** SecondStyle soll wachsen und viele Nutzer gleichzeitig bedienen können.\n",
    "    *   **Details:** Wir müssen eine Architektur wählen, die es uns erlaubt, Ressourcen (Server, Datenbanken etc.) einfach hinzuzufügen, wenn die Last steigt. Dies könnte durch Microservices, Cloud-basierte Lösungen oder Load Balancing erreicht werden.\n",
    "    *   **Beispiel:** Wenn die Anzahl der Nutzer um das Zehnfache steigt, sollte die Plattform nicht zusammenbrechen, sondern weiterhin reibungslos funktionieren.\n",
    "\n",
    "2.  **Sicherheit:**\n",
    "    *   **Warum wichtig:** Nutzer vertrauen SecondStyle ihre persönlichen Daten und Zahlungsinformationen an.\n",
    "    *   **Details:** Wir benötigen robuste Sicherheitsmaßnahmen, um Daten vor unbefugtem Zugriff zu schützen. Dazu gehören Verschlüsselung, sichere Authentifizierungsmethoden und regelmäßige Sicherheitsüberprüfungen.\n",
    "    *   **Beispiel:** Die Kreditkarteninformationen der Nutzer müssen sicher gespeichert und übertragen werden, um Betrug zu verhindern.\n",
    "\n",
    "3.  **Benutzerfreundlichkeit:**\n",
    "    *   **Warum wichtig:** Eine einfache und intuitive Plattform fördert die Nutzung und Bindung der Nutzer.\n",
    "    *   **Details:** Wir müssen auf ein klares Design, einfache Navigation und reibungslose Prozesse achten. Nutzer sollten schnell finden, was sie suchen, und ihre Aufgaben einfach erledigen können.\n",
    "    *   **Beispiel:** Das Hochladen eines Artikels zum Verkauf sollte mit wenigen Klicks erledigt sein.\n",
    "\n"
   ]
  },
  {
   "cell_type": "markdown",
   "metadata": {},
   "source": [
    "## Architekturentscheidungsdokumente (ADR)"
   ]
  },
  {
   "cell_type": "markdown",
   "metadata": {},
   "source": [
    "### ADR-1: Wahl der Datenbanktechnologie"
   ]
  },
  {
   "cell_type": "markdown",
   "metadata": {},
   "source": [
    "\n",
    "\n",
    "*   **Titel:** Wahl zwischen relationaler und NoSQL-Datenbank\n",
    "*   **Status:** Akzeptiert\n",
    "*   **Datum:** 01.04.2025\n",
    "\n",
    "#### Kontext:\n",
    "\n",
    "SecondStyle benötigt eine Datenbank zur Speicherung von Nutzerdaten, Artikelinformationen, Transaktionen und anderen relevanten Daten. Es gibt zwei Haupttypen von Datenbanken: relationale (z.B. PostgreSQL, MySQL) und NoSQL (z.B. MongoDB, Cassandra).\n",
    "\n",
    "#### Entscheidung:\n",
    "\n",
    "Wir entscheiden uns für eine relationale Datenbank (PostgreSQL).\n",
    "\n",
    "#### Gründe:\n",
    "\n",
    "*   **Datenkonsistenz:** SecondStyle benötigt eine hohe Datenkonsistenz, insbesondere für Transaktionen und Finanzdaten. Relationale Datenbanken bieten ACID-Eigenschaften (Atomicity, Consistency, Isolation, Durability), die dies gewährleisten.\n",
    "*   **Komplexität der Datenbeziehungen:** Die Beziehungen zwischen Nutzern, Artikeln und Transaktionen sind komplex. Relationale Datenbanken sind gut geeignet, diese Beziehungen abzubilden und abzufragen (z.B. über JOINs).\n",
    "*   **Erfahrung des Teams:** Das Entwicklerteam hat mehr Erfahrung mit relationalen Datenbanken, was die Entwicklung und Wartung vereinfacht.\n",
    "\n",
    "#### Konsequenzen:\n",
    "\n",
    "*   **Positive:**\n",
    "    *   Hohe Datenkonsistenz und Zuverlässigkeit.\n",
    "    *   Einfache Abbildung komplexer Datenbeziehungen.\n",
    "    *   Gute Unterstützung durch das Entwicklerteam.\n",
    "*   **Negative:**\n",
    "    *   Skalierung kann komplexer sein als bei NoSQL-Datenbanken.\n",
    "    *   Weniger flexibel bei Änderungen des Datenmodells.\n",
    "\n",
    "#### Alternativen:\n",
    "\n",
    "*   **NoSQL-Datenbank (MongoDB):** Wäre flexibler bei Änderungen des Datenmodells und potenziell einfacher zu skalieren. Allerdings wäre die Datenkonsistenz geringer, und das Team hat weniger Erfahrung damit.\n"
   ]
  },
  {
   "cell_type": "markdown",
   "metadata": {},
   "source": [
    "### ADR-2: Wahl der Authentifizierungsmethode"
   ]
  },
  {
   "cell_type": "markdown",
   "metadata": {},
   "source": [
    "\n",
    "\n",
    "*   **Titel:** Auswahl der Authentifizierungsmethode für Benutzerkonten\n",
    "*   **Status:** Angenommen\n",
    "*   **Datum:** 01.04.2025\n",
    "\n",
    "#### Kontext:\n",
    "\n",
    "SecondStyle benötigt eine sichere Methode, um Benutzer zu authentifizieren. Es gibt verschiedene Optionen, darunter:\n",
    "\n",
    "*   **Lokale Authentifizierung:** Benutzername und Passwort werden in der Datenbank gespeichert.\n",
    "*   **Social Login:** Benutzer melden sich über bestehende Konten bei Drittanbietern an (z.B. Google, Facebook).\n",
    "*   **Multi-Faktor-Authentifizierung (MFA):** Kombination aus Passwort und einem zweiten Faktor (z.B. SMS-Code, Authenticator-App).\n",
    "\n",
    "#### Entscheidung:\n",
    "\n",
    "Wir entscheiden uns für eine Kombination aus lokaler Authentifizierung mit starken Passwortrichtlinien und der optionalen Möglichkeit, Social Login zu nutzen. Zusätzlich wird die Implementierung von Multi-Faktor-Authentifizierung (MFA) als zukünftige Erweiterung in Betracht gezogen.\n",
    "\n",
    "#### Gründe:\n",
    "\n",
    "*   **Sicherheit:**\n",
    "    *   **Lokale Authentifizierung:** Ermöglicht die Kontrolle über die Passwortrichtlinien (Mindestlänge, Komplexität).\n",
    "    *   **Social Login:** Bietet eine zusätzliche Sicherheitsebene durch die Sicherheitsmechanismen der Drittanbieter.\n",
    "    *   **MFA:** Erhöht die Sicherheit erheblich, da selbst bei Kompromittierung des Passworts ein zweiter Faktor erforderlich ist.\n",
    "*   **Benutzerfreundlichkeit:**\n",
    "    *   **Social Login:** Vereinfacht die Registrierung und Anmeldung für Nutzer, die bereits Konten bei den unterstützten Anbietern haben.\n",
    "    *   **Lokale Authentifizierung:** Bietet eine einfache, standardmäßige Option für Benutzer, die keinen Social Login nutzen möchten.\n",
    "*   **Flexibilität:**\n",
    "    *   Die optionale Nutzung von Social Login ermöglicht es Benutzern, die für sie bequemste Methode zu wählen.\n",
    "\n",
    "#### Konsequenzen:\n",
    "\n",
    "*   **Positive:**\n",
    "    *   Hohe Sicherheit durch starke Passwortrichtlinien und optionale MFA.\n",
    "    *   Benutzerfreundlichkeit durch Social Login und einfache lokale Authentifizierung.\n",
    "    *   Flexibilität für die Benutzer.\n",
    "*   **Negative:**\n",
    "    *   Zusätzlicher Entwicklungsaufwand für die Implementierung von Social Login und MFA.\n",
    "    *   Abhängigkeit von Drittanbietern bei Social Login.\n",
    "    *   **Technische Schulden:**\n",
    "        *   Die anfängliche Implementierung von MFA als \"zukünftige Erweiterung\" kann zu technischen Schulden führen, wenn die Sicherheitsanforderungen steigen und MFA nicht rechtzeitig implementiert wird.\n",
    "        *   Die Integration von Social Login kann zu technischen Schulden führen, wenn die APIs der Drittanbieter sich ändern und die Integration angepasst werden muss.\n",
    "\n",
    "#### Alternativen:\n",
    "\n",
    "*   **Ausschließliche lokale Authentifizierung:** Wäre einfacher zu implementieren, würde aber die Benutzerfreundlichkeit und Sicherheit potenziell beeinträchtigen.\n",
    "*   **Ausschließlicher Social Login:** Wäre einfacher für die Benutzer, würde aber einige Benutzer ausschließen, die keinen Social Login nutzen möchten.\n",
    "\n",
    "#### Details zur Umsetzung:\n",
    "\n",
    "*   **Lokale Authentifizierung:**\n",
    "    *   Implementierung von starken Passwortrichtlinien (Mindestlänge, Komplexität, regelmäßige Änderung).\n",
    "    *   Sichere Speicherung der Passwörter durch Hashing und Salting.\n",
    "*   **Social Login:**\n",
    "    *   Integration mit etablierten Anbietern wie Google und Facebook.\n",
    "    *   Sorgfältige Prüfung der Berechtigungen, die von den Drittanbietern angefordert werden.\n",
    "*   **Multi-Faktor-Authentifizierung (zukünftig):**\n",
    "    *   Unterstützung von zeitbasierten Einmalpasswörtern (TOTP) über Authenticator-Apps.\n",
    "    *   Optionaler SMS-Code als zweiten Faktor.\n",
    "\n"
   ]
  }
 ],
 "metadata": {
  "language_info": {
   "name": "python"
  }
 },
 "nbformat": 4,
 "nbformat_minor": 2
}
